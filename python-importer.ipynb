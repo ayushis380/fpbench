{
 "cells": [
  {
   "cell_type": "code",
   "execution_count": 93,
   "id": "41a79218",
   "metadata": {},
   "outputs": [
    {
     "name": "stdout",
     "output_type": "stream",
     "text": [
      "<class 'ast.Module'>\n",
      "Module(\n",
      "  body=[\n",
      "    FunctionDef(\n",
      "      name='foo',\n",
      "      args=arguments(\n",
      "        posonlyargs=[],\n",
      "        args=[\n",
      "          arg(arg='xxx'),\n",
      "          arg(arg='yyy'),\n",
      "          arg(arg='sdf')],\n",
      "        kwonlyargs=[],\n",
      "        kw_defaults=[],\n",
      "        defaults=[]),\n",
      "      body=[\n",
      "        Return(\n",
      "          value=Call(\n",
      "            func=Name(id='sin', ctx=Load()),\n",
      "            args=[\n",
      "              Name(id='y', ctx=Load())],\n",
      "            keywords=[]))],\n",
      "      decorator_list=[])],\n",
      "  type_ignores=[])\n"
     ]
    }
   ],
   "source": [
    "import ast\n",
    "node = ast.parse('def foo(xxx,yyy,sdf):\\n  return sin(y)')\n",
    "print(type(node))\n",
    "print(ast.dump(node, indent=2))"
   ]
  },
  {
   "cell_type": "code",
   "execution_count": 7,
   "id": "c0eb767a",
   "metadata": {},
   "outputs": [
    {
     "data": {
      "text/plain": [
       "[<ast.Assign at 0x103fed9a0>, <ast.Expr at 0x103fed550>]"
      ]
     },
     "execution_count": 7,
     "metadata": {},
     "output_type": "execute_result"
    }
   ],
   "source": [
    "node.body[0].body"
   ]
  },
  {
   "cell_type": "code",
   "execution_count": 11,
   "id": "95c4a1e9",
   "metadata": {},
   "outputs": [
    {
     "name": "stdout",
     "output_type": "stream",
     "text": [
      "Name(id='y', ctx=Store())\n"
     ]
    }
   ],
   "source": [
    "print(ast.dump(node.body[0].body[0].targets[0], indent=2))"
   ]
  },
  {
   "cell_type": "code",
   "execution_count": 85,
   "id": "0ff082cf",
   "metadata": {},
   "outputs": [
    {
     "name": "stdout",
     "output_type": "stream",
     "text": [
      "<class 'ast.Name'>\n",
      "Name(id='ay', ctx=Store())\n",
      "                                      \n",
      "<class 'ast.Expr'>\n",
      "Name(id='y', ctx=Load())\n"
     ]
    }
   ],
   "source": [
    "print(type(node.body[0].body[0].targets[0]))\n",
    "print(ast.dump(node.body[0].body[0].targets[0], indent=2))\n",
    "print(\"                                      \")\n",
    "print(type(node.body[0].body[1]))\n",
    "print(ast.dump(node.body[0].body[1].value.args[0] ,indent=2))"
   ]
  },
  {
   "cell_type": "code",
   "execution_count": 30,
   "id": "f759e038",
   "metadata": {},
   "outputs": [
    {
     "name": "stdout",
     "output_type": "stream",
     "text": [
      "x\n",
      "<class 'str'>\n"
     ]
    }
   ],
   "source": [
    "print(ast.dump(node.body[0].args.args[0], indent=2)[9])\n",
    "print(type(ast.dump(node.body[0].args.args[0], indent=2)))"
   ]
  },
  {
   "cell_type": "code",
   "execution_count": 92,
   "id": "44c7f2b6",
   "metadata": {},
   "outputs": [
    {
     "name": "stdout",
     "output_type": "stream",
     "text": [
      "(FPCore(xxx,yyy,sdf)( let(( ay\n"
     ]
    }
   ],
   "source": [
    "import array\n",
    "import ast\n",
    "listArgs=[] # to store the argument values\n",
    "str = \"(FPCore(\"\n",
    "\n",
    "str += \" \".join([\n",
    "    item.arg\n",
    "    for item\n",
    "    in node.body[0].args.args\n",
    "])\n",
    "\n",
    "listTgt=[]\n",
    "# taking values from class Assign\n",
    "if(type(node.body[0].body[0]) == ast.Assign):\n",
    "    str+=')( let(( '\n",
    "    index=0\n",
    "    for item in node.body[0].body[0].targets:\n",
    "        lenTgt = len((ast.dump(node.body[0].body[0].targets[index])))\n",
    "        #print(lenTgt)\n",
    "        #print(ast.dump(item)[9:lenTgt-15])\n",
    "        listTgt.append(ast.dump(item)[9:lenTgt-15])\n",
    "for s in listTgt:\n",
    "    str+=s\n",
    "print(str)"
   ]
  },
  {
   "cell_type": "code",
   "execution_count": 33,
   "id": "64e8bbc7",
   "metadata": {},
   "outputs": [
    {
     "name": "stdout",
     "output_type": "stream",
     "text": [
      "Assign(\n",
      "  targets=[\n",
      "    Name(id='y', ctx=Store())],\n",
      "  value=BinOp(\n",
      "    left=Name(id='x', ctx=Load()),\n",
      "    op=Mult(),\n",
      "    right=Name(id='x', ctx=Load())))\n"
     ]
    }
   ],
   "source": [
    "print(ast.dump(node.body[0].body[0], indent=2))"
   ]
  },
  {
   "cell_type": "code",
   "execution_count": 9,
   "id": "d21e359d",
   "metadata": {},
   "outputs": [
    {
     "name": "stdout",
     "output_type": "stream",
     "text": [
      "2\n",
      "x\n",
      "y\n"
     ]
    }
   ],
   "source": [
    "#argStr = \"\"\n",
    "print(len(node.body[0].args.args))\n",
    "lenStrArg = len((ast.dump(node.body[0].args.args[0])))\n",
    "#print(lenStrArg)\n",
    "for ind in node.body[0].args.args:\n",
    "    print(ast.dump(ind)[9:lenStrArg-2])\n",
    "#ast.dump(node.body[0].args.args[0])[9]"
   ]
  },
  {
   "cell_type": "code",
   "execution_count": 66,
   "id": "532c45cc",
   "metadata": {},
   "outputs": [
    {
     "data": {
      "text/plain": [
       "[<ast.arg at 0x109af4df0>, <ast.arg at 0x109af4dc0>]"
      ]
     },
     "execution_count": 66,
     "metadata": {},
     "output_type": "execute_result"
    }
   ],
   "source": [
    "node.body[0].args.args"
   ]
  },
  {
   "cell_type": "code",
   "execution_count": 94,
   "id": "3c6433b3",
   "metadata": {},
   "outputs": [
    {
     "ename": "IndentationError",
     "evalue": "expected an indented block (2467629303.py, line 1)",
     "output_type": "error",
     "traceback": [
      "\u001b[0;36m  Input \u001b[0;32mIn [94]\u001b[0;36m\u001b[0m\n\u001b[0;31m    def compile_expr(node):\u001b[0m\n\u001b[0m                           ^\u001b[0m\n\u001b[0;31mIndentationError\u001b[0m\u001b[0;31m:\u001b[0m expected an indented block\n"
     ]
    }
   ],
   "source": [
    "def compile_expr(node):\n",
    "    if isinstance(node, ast.Call):\n",
    "        # ...\n",
    "        return s\n",
    "    elif isinstance(node, ast.Name):\n",
    "        # ...\n",
    "        return s\n",
    "    # ..."
   ]
  },
  {
   "cell_type": "code",
   "execution_count": null,
   "id": "911a93a3",
   "metadata": {},
   "outputs": [],
   "source": []
  }
 ],
 "metadata": {
  "kernelspec": {
   "display_name": "Python 3 (ipykernel)",
   "language": "python",
   "name": "python3"
  },
  "language_info": {
   "codemirror_mode": {
    "name": "ipython",
    "version": 3
   },
   "file_extension": ".py",
   "mimetype": "text/x-python",
   "name": "python",
   "nbconvert_exporter": "python",
   "pygments_lexer": "ipython3",
   "version": "3.9.9"
  }
 },
 "nbformat": 4,
 "nbformat_minor": 5
}
